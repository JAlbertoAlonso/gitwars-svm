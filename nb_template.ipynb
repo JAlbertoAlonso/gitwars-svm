{
 "cells": [
  {
   "cell_type": "markdown",
   "id": "848153e3",
   "metadata": {},
   "source": [
    "# Laboratorio 6: Git Wars - SVMs\n",
    "\n",
    "**Duración:** 2 horas  \n",
    "**Formato:** Competencia por Pull Requests  \n",
    "**Repositorio base:** https://github.com/JAlbertoAlonso/gitwars-svm \n",
    "\n",
    "---\n",
    "\n",
    "## Portada del equipo\n",
    "\n",
    "**Integrantes:**\n",
    "- Nombre 1 (Usuario GitHub)\n",
    "- Nombre 2 (Usuario GitHub)\n",
    "- Nombre 3 (Usuario GitHub)\n",
    "\n",
    "**Repositorio del equipo:**  \n",
    "<https://github.com/usuario/codewars-svm>\n",
    "\n",
    "**Fecha de entrega:**  \n",
    "__/__/____"
   ]
  },
  {
   "cell_type": "markdown",
   "id": "067997e4",
   "metadata": {},
   "source": [
    "## Fase 1 - Implementación de hinge loss"
   ]
  },
  {
   "cell_type": "markdown",
   "id": "9d993f7a",
   "metadata": {},
   "source": [
    "### Código - Fase 1"
   ]
  },
  {
   "cell_type": "code",
   "execution_count": null,
   "id": "a61f306a",
   "metadata": {
    "vscode": {
     "languageId": "plaintext"
    }
   },
   "outputs": [],
   "source": []
  },
  {
   "cell_type": "markdown",
   "id": "70967777",
   "metadata": {},
   "source": [
    "### Análisis - Fase 1"
   ]
  },
  {
   "cell_type": "markdown",
   "id": "d641d8ca",
   "metadata": {},
   "source": []
  },
  {
   "cell_type": "markdown",
   "id": "b6517df1",
   "metadata": {},
   "source": [
    "### Bitácora de control de versiones — Fase 1"
   ]
  },
  {
   "cell_type": "code",
   "execution_count": null,
   "id": "7b91e9a5",
   "metadata": {
    "vscode": {
     "languageId": "plaintext"
    }
   },
   "outputs": [],
   "source": []
  },
  {
   "cell_type": "markdown",
   "id": "eda7bbcd",
   "metadata": {},
   "source": [
    "## Fase 2 - Entrenamiento lineal"
   ]
  },
  {
   "cell_type": "markdown",
   "id": "0f8c4be9",
   "metadata": {},
   "source": [
    "### Código - Fase 2"
   ]
  },
  {
   "cell_type": "code",
   "execution_count": null,
   "id": "81cab4b2",
   "metadata": {
    "vscode": {
     "languageId": "plaintext"
    }
   },
   "outputs": [],
   "source": []
  },
  {
   "cell_type": "markdown",
   "id": "c3a99c8f",
   "metadata": {},
   "source": [
    "### Análisis - Fase 2"
   ]
  },
  {
   "cell_type": "markdown",
   "id": "08948535",
   "metadata": {},
   "source": []
  },
  {
   "cell_type": "markdown",
   "id": "3933523a",
   "metadata": {},
   "source": [
    "### Bitácora de control de versiones — Fase 2"
   ]
  },
  {
   "cell_type": "code",
   "execution_count": null,
   "id": "18db6bf7",
   "metadata": {
    "vscode": {
     "languageId": "plaintext"
    }
   },
   "outputs": [],
   "source": []
  },
  {
   "cell_type": "markdown",
   "id": "1017feed",
   "metadata": {},
   "source": [
    "## Fase 3 - Visualización y análisis del margen"
   ]
  },
  {
   "cell_type": "markdown",
   "id": "1db4df7c",
   "metadata": {},
   "source": [
    "### Código - Fase 3"
   ]
  },
  {
   "cell_type": "code",
   "execution_count": null,
   "id": "09eb4078",
   "metadata": {
    "vscode": {
     "languageId": "plaintext"
    }
   },
   "outputs": [],
   "source": []
  },
  {
   "cell_type": "markdown",
   "id": "26ae2d16",
   "metadata": {},
   "source": [
    "### Análisis - Fase 3"
   ]
  },
  {
   "cell_type": "markdown",
   "id": "27738569",
   "metadata": {},
   "source": []
  },
  {
   "cell_type": "markdown",
   "id": "b6d56261",
   "metadata": {},
   "source": [
    "### Bitácora de control de versiones — Fase 3"
   ]
  },
  {
   "cell_type": "code",
   "execution_count": null,
   "id": "f1a79ea3",
   "metadata": {
    "vscode": {
     "languageId": "plaintext"
    }
   },
   "outputs": [],
   "source": []
  },
  {
   "cell_type": "markdown",
   "id": "bd8832f4",
   "metadata": {},
   "source": [
    "## Fase 4 - Idea dual + Kernel RBF"
   ]
  },
  {
   "cell_type": "markdown",
   "id": "349b8589",
   "metadata": {},
   "source": [
    "### Código - Fase 4"
   ]
  },
  {
   "cell_type": "code",
   "execution_count": null,
   "id": "ef43827a",
   "metadata": {
    "vscode": {
     "languageId": "plaintext"
    }
   },
   "outputs": [],
   "source": []
  },
  {
   "cell_type": "markdown",
   "id": "b77e1edb",
   "metadata": {},
   "source": [
    "### Análisis - Fase 4"
   ]
  },
  {
   "cell_type": "markdown",
   "id": "48c11f43",
   "metadata": {},
   "source": []
  },
  {
   "cell_type": "markdown",
   "id": "939a81d4",
   "metadata": {},
   "source": [
    "### Bitácora de control de versiones — Fase 4"
   ]
  },
  {
   "cell_type": "code",
   "execution_count": null,
   "id": "577d56bf",
   "metadata": {
    "vscode": {
     "languageId": "plaintext"
    }
   },
   "outputs": [],
   "source": []
  },
  {
   "cell_type": "markdown",
   "id": "3eba8623",
   "metadata": {},
   "source": [
    "## Conclusiones finales"
   ]
  },
  {
   "cell_type": "markdown",
   "id": "a6c4fb79",
   "metadata": {},
   "source": []
  }
 ],
 "metadata": {
  "language_info": {
   "name": "python"
  }
 },
 "nbformat": 4,
 "nbformat_minor": 5
}
