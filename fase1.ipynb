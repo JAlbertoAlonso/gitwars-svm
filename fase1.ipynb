{
 "cells": [
  {
   "cell_type": "markdown",
   "id": "e1c57d39",
   "metadata": {},
   "source": [
    "## Portada del equipo\n",
    "\n",
    "**Integrantes:**\n",
    "- Nombre 1 David Leobardo Pérez Cruz\n",
    "- Nombre 2 Roberto Jhoshua Alegre ventura\n",
    "- Nombre 3 Mariano Josué Ahuatzi Pichardo\n",
    "- Nombre 4 Fabian Herrera Barron\n"
   ]
  },
  {
   "cell_type": "code",
   "execution_count": 2,
   "id": "e422f863",
   "metadata": {},
   "outputs": [],
   "source": [
    "# svm_hinge.py\n",
    "import pandas as pd\n",
    "import numpy as np\n",
    "\n",
    "def hinge_loss(w, b, X, y, C):\n",
    "    \"\"\"\n",
    "    L(w,b) = 0.5||w||^2 + C * sum_i max(0, 1 - y_i (w^T x_i + b))\n",
    "    Devuelve: L (escalar), dW (como w), dB (escalar)\n",
    "    \"\"\"\n",
    "    X = np.asarray(X, float)           # (N, D)\n",
    "    y = np.asarray(y, float).reshape(-1)  # (N,)\n",
    "    w = np.asarray(w, float).reshape(-1)  # (D,)\n",
    "    b = float(b)\n",
    "\n",
    "    scores  = X @ w + b                # (N,)\n",
    "    margins = 1.0 - y * scores         # (N,)\n",
    "    hinge   = np.maximum(0.0, margins) # (N,)\n",
    "\n",
    "    L  = 0.5 * w.dot(w) + C * hinge.sum()\n",
    "\n",
    "    active = (margins > 0).astype(float)   # 1 si contribuye\n",
    "    coeff  = -y * active                   # d(hinge)/d(score)\n",
    "\n",
    "    dW = w + C * (X.T @ coeff)\n",
    "    dB = C * coeff.sum()\n",
    "    return L, dW, dB\n",
    "\n",
    "\n"
   ]
  },
  {
   "cell_type": "code",
   "execution_count": 7,
   "id": "22cfcd70",
   "metadata": {},
   "outputs": [
    {
     "name": "stdout",
     "output_type": "stream",
     "text": [
      "N=200, D=2\n",
      "Pérdida inicial: 200.000000\n",
      "||dW||: 399.661479, dB: 0.000000\n",
      "Pérdida tras 1 paso GD: 27.602683\n"
     ]
    }
   ],
   "source": [
    "if __name__ == \"__main__\":\n",
    "\n",
    "    df = pd.read_csv(\"fase1-labubus/data/train_linear.csv\")\n",
    "\n",
    "    try:\n",
    "        data = np.genfromtxt(\"fase1-labubus/data/train_linear.csv\", delimiter=\",\", dtype=float, skip_header=1)\n",
    "        if np.isnan(data).any():  # si falló por cabecera rara, reintenta sin skip\n",
    "            raise ValueError\n",
    "    except Exception:\n",
    "        data = np.genfromtxt(\"train_linear.csv\", delimiter=\",\", dtype=float)\n",
    "\n",
    "    X = data[:, :-1]\n",
    "    y = data[:, -1]\n",
    "\n",
    "    # Parámetros iniciales simples\n",
    "    w = np.zeros(X.shape[1])\n",
    "    b = 0.0\n",
    "    C = 1.0\n",
    "\n",
    "    # Cálculo de pérdida y gradiente\n",
    "    L, dW, dB = hinge_loss(w, b, X, y, C)\n",
    "\n",
    "    print(f\"N={len(y)}, D={X.shape[1]}\")\n",
    "    print(f\"Pérdida inicial: {L:.6f}\")\n",
    "    print(f\"||dW||: {np.linalg.norm(dW):.6f}, dB: {dB:.6f}\")\n",
    "\n",
    "    # Una pasada de descenso de gradiente\n",
    "    lr = 1e-2\n",
    "    w -= lr * dW\n",
    "    b -= lr * dB\n",
    "    L2, _, _ = hinge_loss(w, b, X, y, C)\n",
    "    print(f\"Pérdida tras 1 paso GD: {L2:.6f}\")"
   ]
  },
  {
   "cell_type": "markdown",
   "id": "2d44c308",
   "metadata": {},
   "source": [
    "1. El término $0.5 \\lVert w \\rVert^2$ penaliza pesos grandes, lo que ayuda a mantener un margen amplio y evitar sobreajuste.  \n",
    "   El parámetro $C$ controla el equilibrio entre el tamaño del margen y los errores de clasificación:  \n",
    "   - $C$ grande → más castigo a errores (margen pequeño, posible sobreajuste).  \n",
    "   - $C$ pequeño → menos castigo (margen más grande, modelo más general).\n",
    "\n",
    "2. La parte hinge contribuye $0$ al costo cuando $y_i (w^\\top x_i + b) \\ge 1$,  \n",
    "   es decir, cuando el punto está correctamente clasificado y fuera del margen."
   ]
  }
 ],
 "metadata": {
  "kernelspec": {
   "display_name": "Python 3",
   "language": "python",
   "name": "python3"
  },
  "language_info": {
   "codemirror_mode": {
    "name": "ipython",
    "version": 3
   },
   "file_extension": ".py",
   "mimetype": "text/x-python",
   "name": "python",
   "nbconvert_exporter": "python",
   "pygments_lexer": "ipython3",
   "version": "3.11.2"
  }
 },
 "nbformat": 4,
 "nbformat_minor": 5
}
